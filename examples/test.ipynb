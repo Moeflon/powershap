{
 "cells": [
  {
   "cell_type": "code",
   "execution_count": 25,
   "metadata": {},
   "outputs": [
    {
     "name": "stdout",
     "output_type": "stream",
     "text": [
      "The autoreload extension is already loaded. To reload it, use:\n",
      "  %reload_ext autoreload\n"
     ]
    }
   ],
   "source": [
    "%load_ext autoreload\n",
    "%autoreload 2\n",
    "\n",
    "import pandas as pd"
   ]
  },
  {
   "cell_type": "code",
   "execution_count": 39,
   "metadata": {},
   "outputs": [],
   "source": [
    "from sklearn.datasets import make_classification\n",
    "\n",
    "X, y = make_classification(n_samples=5000, n_features=10, n_informative=2, n_redundant=0)\n",
    "# X = pd.DataFrame(data=X, columns=[f\"col_{i}\" for i in range(10)])"
   ]
  },
  {
   "cell_type": "markdown",
   "metadata": {},
   "source": [
    "## One by one test"
   ]
  },
  {
   "cell_type": "code",
   "execution_count": 40,
   "metadata": {},
   "outputs": [],
   "source": [
    "import sys\n",
    "sys.path.append(\"../powershap\")\n",
    "\n",
    "from powershap import PowerSHAP\n",
    "\n",
    "\n",
    "from catboost import CatBoostClassifier\n",
    "\n",
    "selector = PowerSHAP(\n",
    "    model = CatBoostClassifier(verbose=0, n_estimators=200),\n",
    "    power_iterations=10,\n",
    "    # automatic=True,\n",
    "    # limit_automatic=100,\n",
    ")"
   ]
  },
  {
   "cell_type": "code",
   "execution_count": 41,
   "metadata": {},
   "outputs": [
    {
     "name": "stderr",
     "output_type": "stream",
     "text": [
      "100%|██████████| 10/10 [00:14<00:00,  1.43s/it]\n",
      "\n",
      "Failed to converge on a solution.\n",
      "\n",
      "Creating an ndarray from ragged nested sequences (which is a list-or-tuple of lists-or-tuples-or ndarrays with different lengths or shapes) is deprecated. If you meant to do this, you must specify 'dtype=object' when creating the ndarray.\n"
     ]
    },
    {
     "data": {
      "text/plain": [
       "PowerSHAP(model=<catboost.core.CatBoostClassifier object at 0x7f3b32b342b0>)"
      ]
     },
     "execution_count": 41,
     "metadata": {},
     "output_type": "execute_result"
    }
   ],
   "source": [
    "selector.fit(X, y)"
   ]
  },
  {
   "cell_type": "code",
   "execution_count": 42,
   "metadata": {},
   "outputs": [
    {
     "data": {
      "text/plain": [
       "array([[ 1.05177032,  0.20433431, -0.71197018],\n",
       "       [ 0.63657333, -0.46774804,  1.71724841],\n",
       "       [-0.07523655,  0.49548664,  2.17273377],\n",
       "       ...,\n",
       "       [-1.56064525,  0.90378236,  2.5407778 ],\n",
       "       [-0.80927141, -0.56775875, -0.85677633],\n",
       "       [ 1.12766922,  1.20293023,  1.0179223 ]])"
      ]
     },
     "execution_count": 42,
     "metadata": {},
     "output_type": "execute_result"
    }
   ],
   "source": [
    "selector.transform(X)"
   ]
  },
  {
   "cell_type": "code",
   "execution_count": 43,
   "metadata": {},
   "outputs": [
    {
     "data": {
      "text/html": [
       "<div>\n",
       "<style scoped>\n",
       "    .dataframe tbody tr th:only-of-type {\n",
       "        vertical-align: middle;\n",
       "    }\n",
       "\n",
       "    .dataframe tbody tr th {\n",
       "        vertical-align: top;\n",
       "    }\n",
       "\n",
       "    .dataframe thead th {\n",
       "        text-align: right;\n",
       "    }\n",
       "</style>\n",
       "<table border=\"1\" class=\"dataframe\">\n",
       "  <thead>\n",
       "    <tr style=\"text-align: right;\">\n",
       "      <th></th>\n",
       "      <th>impact</th>\n",
       "      <th>p_value</th>\n",
       "      <th>effect_size</th>\n",
       "      <th>power_0.01_alpha</th>\n",
       "      <th>0.95_power_its_req</th>\n",
       "    </tr>\n",
       "  </thead>\n",
       "  <tbody>\n",
       "    <tr>\n",
       "      <th>4</th>\n",
       "      <td>3.832704</td>\n",
       "      <td>0.0</td>\n",
       "      <td>75.666994</td>\n",
       "      <td>1.0</td>\n",
       "      <td>[10.0]</td>\n",
       "    </tr>\n",
       "    <tr>\n",
       "      <th>1</th>\n",
       "      <td>1.293248</td>\n",
       "      <td>0.0</td>\n",
       "      <td>25.108043</td>\n",
       "      <td>1.0</td>\n",
       "      <td>2.180626</td>\n",
       "    </tr>\n",
       "    <tr>\n",
       "      <th>2</th>\n",
       "      <td>0.15392</td>\n",
       "      <td>0.0</td>\n",
       "      <td>2.006632</td>\n",
       "      <td>0.998462</td>\n",
       "      <td>6.911325</td>\n",
       "    </tr>\n",
       "    <tr>\n",
       "      <th>8</th>\n",
       "      <td>0.09663</td>\n",
       "      <td>0.5</td>\n",
       "      <td>0.397909</td>\n",
       "      <td>0.106235</td>\n",
       "      <td>102.335507</td>\n",
       "    </tr>\n",
       "    <tr>\n",
       "      <th>0</th>\n",
       "      <td>0.089965</td>\n",
       "      <td>0.6</td>\n",
       "      <td>0.097972</td>\n",
       "      <td>0.019747</td>\n",
       "      <td>1645.717178</td>\n",
       "    </tr>\n",
       "    <tr>\n",
       "      <th>random_uniform_feature</th>\n",
       "      <td>0.087199</td>\n",
       "      <td>0.6</td>\n",
       "      <td>0.0</td>\n",
       "      <td>0.01</td>\n",
       "      <td>0</td>\n",
       "    </tr>\n",
       "    <tr>\n",
       "      <th>5</th>\n",
       "      <td>0.082373</td>\n",
       "      <td>0.6</td>\n",
       "      <td>0.193992</td>\n",
       "      <td>0.036092</td>\n",
       "      <td>421.771006</td>\n",
       "    </tr>\n",
       "    <tr>\n",
       "      <th>6</th>\n",
       "      <td>0.077554</td>\n",
       "      <td>0.8</td>\n",
       "      <td>0.402957</td>\n",
       "      <td>0.108748</td>\n",
       "      <td>99.856611</td>\n",
       "    </tr>\n",
       "    <tr>\n",
       "      <th>7</th>\n",
       "      <td>0.075366</td>\n",
       "      <td>0.7</td>\n",
       "      <td>0.583175</td>\n",
       "      <td>0.226684</td>\n",
       "      <td>49.130233</td>\n",
       "    </tr>\n",
       "    <tr>\n",
       "      <th>3</th>\n",
       "      <td>0.073204</td>\n",
       "      <td>0.7</td>\n",
       "      <td>0.689173</td>\n",
       "      <td>0.320232</td>\n",
       "      <td>35.982082</td>\n",
       "    </tr>\n",
       "    <tr>\n",
       "      <th>9</th>\n",
       "      <td>0.064092</td>\n",
       "      <td>1.0</td>\n",
       "      <td>1.243659</td>\n",
       "      <td>0.839909</td>\n",
       "      <td>13.087416</td>\n",
       "    </tr>\n",
       "  </tbody>\n",
       "</table>\n",
       "</div>"
      ],
      "text/plain": [
       "                          impact p_value effect_size power_0.01_alpha  \\\n",
       "4                       3.832704     0.0   75.666994              1.0   \n",
       "1                       1.293248     0.0   25.108043              1.0   \n",
       "2                        0.15392     0.0    2.006632         0.998462   \n",
       "8                        0.09663     0.5    0.397909         0.106235   \n",
       "0                       0.089965     0.6    0.097972         0.019747   \n",
       "random_uniform_feature  0.087199     0.6         0.0             0.01   \n",
       "5                       0.082373     0.6    0.193992         0.036092   \n",
       "6                       0.077554     0.8    0.402957         0.108748   \n",
       "7                       0.075366     0.7    0.583175         0.226684   \n",
       "3                       0.073204     0.7    0.689173         0.320232   \n",
       "9                       0.064092     1.0    1.243659         0.839909   \n",
       "\n",
       "                       0.95_power_its_req  \n",
       "4                                  [10.0]  \n",
       "1                                2.180626  \n",
       "2                                6.911325  \n",
       "8                              102.335507  \n",
       "0                             1645.717178  \n",
       "random_uniform_feature                  0  \n",
       "5                              421.771006  \n",
       "6                               99.856611  \n",
       "7                               49.130233  \n",
       "3                               35.982082  \n",
       "9                               13.087416  "
      ]
     },
     "execution_count": 43,
     "metadata": {},
     "output_type": "execute_result"
    }
   ],
   "source": [
    "selector._processed_shaps_df"
   ]
  },
  {
   "cell_type": "markdown",
   "metadata": {},
   "source": [
    "## sklearn pipeline test"
   ]
  },
  {
   "cell_type": "code",
   "execution_count": 44,
   "metadata": {},
   "outputs": [
    {
     "name": "stderr",
     "output_type": "stream",
     "text": [
      "100%|██████████| 10/10 [00:13<00:00,  1.32s/it]\n"
     ]
    },
    {
     "data": {
      "text/plain": [
       "0.9116"
      ]
     },
     "execution_count": 44,
     "metadata": {},
     "output_type": "execute_result"
    }
   ],
   "source": [
    "from sklearn.pipeline import Pipeline\n",
    "\n",
    "from sklearn.linear_model import LogisticRegression\n",
    "\n",
    "pipe = Pipeline(\n",
    "    [\n",
    "        (\n",
    "            \"selector\",\n",
    "            PowerSHAP(\n",
    "                CatBoostClassifier(\n",
    "                    verbose=0, n_estimators=250,\n",
    "                ), automatic=True, limit_automatic=1000,\n",
    "            ),\n",
    "        ),\n",
    "        (\"lr\", LogisticRegression()),\n",
    "    ]\n",
    ")\n",
    "\n",
    "pipe.fit(X, y)\n",
    "\n",
    "\n",
    "from sklearn.metrics import accuracy_score\n",
    "\n",
    "accuracy_score(pipe.predict(X), y)\n"
   ]
  },
  {
   "cell_type": "code",
   "execution_count": null,
   "metadata": {},
   "outputs": [],
   "source": []
  }
 ],
 "metadata": {
  "interpreter": {
   "hash": "4454adb76e1590f06b0cd848f1b87f82b41871aa5648994c4db0c9fbdc1ef435"
  },
  "kernelspec": {
   "display_name": "Python 3.8.10 ('venv': venv)",
   "language": "python",
   "name": "python3"
  },
  "language_info": {
   "codemirror_mode": {
    "name": "ipython",
    "version": 3
   },
   "file_extension": ".py",
   "mimetype": "text/x-python",
   "name": "python",
   "nbconvert_exporter": "python",
   "pygments_lexer": "ipython3",
   "version": "3.8.10"
  },
  "orig_nbformat": 4
 },
 "nbformat": 4,
 "nbformat_minor": 2
}
